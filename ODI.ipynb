{
  "nbformat": 4,
  "nbformat_minor": 0,
  "metadata": {
    "colab": {
      "name": "Untitled6.ipynb",
      "provenance": [],
      "authorship_tag": "ABX9TyOAaD4JmV43uliTVMGqM9ZP",
      "include_colab_link": true
    },
    "kernelspec": {
      "name": "python3",
      "display_name": "Python 3"
    }
  },
  "cells": [
    {
      "cell_type": "markdown",
      "metadata": {
        "id": "view-in-github",
        "colab_type": "text"
      },
      "source": [
        "<a href=\"https://colab.research.google.com/github/sakshi1018/Data-Analysis-of-ODI-Cricket-Matches-2018/blob/master/ODI.ipynb\" target=\"_parent\"><img src=\"https://colab.research.google.com/assets/colab-badge.svg\" alt=\"Open In Colab\"/></a>"
      ]
    },
    {
      "cell_type": "code",
      "metadata": {
        "id": "i3fRidvnC-xR",
        "colab_type": "code",
        "colab": {
          "base_uri": "https://localhost:8080/",
          "height": 817
        },
        "outputId": "482416bb-7fe8-4737-8a93-b87205f5455d"
      },
      "source": [
        "!pip install gmplot\n",
        "!pip install gmaps"
      ],
      "execution_count": 76,
      "outputs": [
        {
          "output_type": "stream",
          "text": [
            "Requirement already satisfied: gmplot in /usr/local/lib/python3.6/dist-packages (1.2.0)\n",
            "Requirement already satisfied: requests in /usr/local/lib/python3.6/dist-packages (from gmplot) (2.23.0)\n",
            "Requirement already satisfied: idna<3,>=2.5 in /usr/local/lib/python3.6/dist-packages (from requests->gmplot) (2.9)\n",
            "Requirement already satisfied: chardet<4,>=3.0.2 in /usr/local/lib/python3.6/dist-packages (from requests->gmplot) (3.0.4)\n",
            "Requirement already satisfied: urllib3!=1.25.0,!=1.25.1,<1.26,>=1.21.1 in /usr/local/lib/python3.6/dist-packages (from requests->gmplot) (1.24.3)\n",
            "Requirement already satisfied: certifi>=2017.4.17 in /usr/local/lib/python3.6/dist-packages (from requests->gmplot) (2020.4.5.2)\n",
            "Requirement already satisfied: gmaps in /usr/local/lib/python3.6/dist-packages (0.9.0)\n",
            "Requirement already satisfied: geojson>=2.0.0 in /usr/local/lib/python3.6/dist-packages (from gmaps) (2.5.0)\n",
            "Requirement already satisfied: six in /usr/local/lib/python3.6/dist-packages (from gmaps) (1.12.0)\n",
            "Requirement already satisfied: traitlets>=4.3.0 in /usr/local/lib/python3.6/dist-packages (from gmaps) (4.3.3)\n",
            "Requirement already satisfied: ipywidgets>=7.0.0 in /usr/local/lib/python3.6/dist-packages (from gmaps) (7.5.1)\n",
            "Requirement already satisfied: ipython>=5.3.0 in /usr/local/lib/python3.6/dist-packages (from gmaps) (5.5.0)\n",
            "Requirement already satisfied: ipython-genutils in /usr/local/lib/python3.6/dist-packages (from traitlets>=4.3.0->gmaps) (0.2.0)\n",
            "Requirement already satisfied: decorator in /usr/local/lib/python3.6/dist-packages (from traitlets>=4.3.0->gmaps) (4.4.2)\n",
            "Requirement already satisfied: nbformat>=4.2.0 in /usr/local/lib/python3.6/dist-packages (from ipywidgets>=7.0.0->gmaps) (5.0.7)\n",
            "Requirement already satisfied: ipykernel>=4.5.1 in /usr/local/lib/python3.6/dist-packages (from ipywidgets>=7.0.0->gmaps) (4.10.1)\n",
            "Requirement already satisfied: widgetsnbextension~=3.5.0 in /usr/local/lib/python3.6/dist-packages (from ipywidgets>=7.0.0->gmaps) (3.5.1)\n",
            "Requirement already satisfied: simplegeneric>0.8 in /usr/local/lib/python3.6/dist-packages (from ipython>=5.3.0->gmaps) (0.8.1)\n",
            "Requirement already satisfied: prompt-toolkit<2.0.0,>=1.0.4 in /usr/local/lib/python3.6/dist-packages (from ipython>=5.3.0->gmaps) (1.0.18)\n",
            "Requirement already satisfied: pexpect; sys_platform != \"win32\" in /usr/local/lib/python3.6/dist-packages (from ipython>=5.3.0->gmaps) (4.8.0)\n",
            "Requirement already satisfied: pygments in /usr/local/lib/python3.6/dist-packages (from ipython>=5.3.0->gmaps) (2.1.3)\n",
            "Requirement already satisfied: setuptools>=18.5 in /usr/local/lib/python3.6/dist-packages (from ipython>=5.3.0->gmaps) (47.3.1)\n",
            "Requirement already satisfied: pickleshare in /usr/local/lib/python3.6/dist-packages (from ipython>=5.3.0->gmaps) (0.7.5)\n",
            "Requirement already satisfied: jupyter-core in /usr/local/lib/python3.6/dist-packages (from nbformat>=4.2.0->ipywidgets>=7.0.0->gmaps) (4.6.3)\n",
            "Requirement already satisfied: jsonschema!=2.5.0,>=2.4 in /usr/local/lib/python3.6/dist-packages (from nbformat>=4.2.0->ipywidgets>=7.0.0->gmaps) (2.6.0)\n",
            "Requirement already satisfied: tornado>=4.0 in /usr/local/lib/python3.6/dist-packages (from ipykernel>=4.5.1->ipywidgets>=7.0.0->gmaps) (4.5.3)\n",
            "Requirement already satisfied: jupyter-client in /usr/local/lib/python3.6/dist-packages (from ipykernel>=4.5.1->ipywidgets>=7.0.0->gmaps) (5.3.4)\n",
            "Requirement already satisfied: notebook>=4.4.1 in /usr/local/lib/python3.6/dist-packages (from widgetsnbextension~=3.5.0->ipywidgets>=7.0.0->gmaps) (5.2.2)\n",
            "Requirement already satisfied: wcwidth in /usr/local/lib/python3.6/dist-packages (from prompt-toolkit<2.0.0,>=1.0.4->ipython>=5.3.0->gmaps) (0.2.4)\n",
            "Requirement already satisfied: ptyprocess>=0.5 in /usr/local/lib/python3.6/dist-packages (from pexpect; sys_platform != \"win32\"->ipython>=5.3.0->gmaps) (0.6.0)\n",
            "Requirement already satisfied: pyzmq>=13 in /usr/local/lib/python3.6/dist-packages (from jupyter-client->ipykernel>=4.5.1->ipywidgets>=7.0.0->gmaps) (19.0.1)\n",
            "Requirement already satisfied: python-dateutil>=2.1 in /usr/local/lib/python3.6/dist-packages (from jupyter-client->ipykernel>=4.5.1->ipywidgets>=7.0.0->gmaps) (2.8.1)\n",
            "Requirement already satisfied: terminado>=0.3.3; sys_platform != \"win32\" in /usr/local/lib/python3.6/dist-packages (from notebook>=4.4.1->widgetsnbextension~=3.5.0->ipywidgets>=7.0.0->gmaps) (0.8.3)\n",
            "Requirement already satisfied: jinja2 in /usr/local/lib/python3.6/dist-packages (from notebook>=4.4.1->widgetsnbextension~=3.5.0->ipywidgets>=7.0.0->gmaps) (2.11.2)\n",
            "Requirement already satisfied: nbconvert in /usr/local/lib/python3.6/dist-packages (from notebook>=4.4.1->widgetsnbextension~=3.5.0->ipywidgets>=7.0.0->gmaps) (5.6.1)\n",
            "Requirement already satisfied: MarkupSafe>=0.23 in /usr/local/lib/python3.6/dist-packages (from jinja2->notebook>=4.4.1->widgetsnbextension~=3.5.0->ipywidgets>=7.0.0->gmaps) (1.1.1)\n",
            "Requirement already satisfied: defusedxml in /usr/local/lib/python3.6/dist-packages (from nbconvert->notebook>=4.4.1->widgetsnbextension~=3.5.0->ipywidgets>=7.0.0->gmaps) (0.6.0)\n",
            "Requirement already satisfied: mistune<2,>=0.8.1 in /usr/local/lib/python3.6/dist-packages (from nbconvert->notebook>=4.4.1->widgetsnbextension~=3.5.0->ipywidgets>=7.0.0->gmaps) (0.8.4)\n",
            "Requirement already satisfied: testpath in /usr/local/lib/python3.6/dist-packages (from nbconvert->notebook>=4.4.1->widgetsnbextension~=3.5.0->ipywidgets>=7.0.0->gmaps) (0.4.4)\n",
            "Requirement already satisfied: pandocfilters>=1.4.1 in /usr/local/lib/python3.6/dist-packages (from nbconvert->notebook>=4.4.1->widgetsnbextension~=3.5.0->ipywidgets>=7.0.0->gmaps) (1.4.2)\n",
            "Requirement already satisfied: entrypoints>=0.2.2 in /usr/local/lib/python3.6/dist-packages (from nbconvert->notebook>=4.4.1->widgetsnbextension~=3.5.0->ipywidgets>=7.0.0->gmaps) (0.3)\n",
            "Requirement already satisfied: bleach in /usr/local/lib/python3.6/dist-packages (from nbconvert->notebook>=4.4.1->widgetsnbextension~=3.5.0->ipywidgets>=7.0.0->gmaps) (3.1.5)\n",
            "Requirement already satisfied: packaging in /usr/local/lib/python3.6/dist-packages (from bleach->nbconvert->notebook>=4.4.1->widgetsnbextension~=3.5.0->ipywidgets>=7.0.0->gmaps) (20.4)\n",
            "Requirement already satisfied: webencodings in /usr/local/lib/python3.6/dist-packages (from bleach->nbconvert->notebook>=4.4.1->widgetsnbextension~=3.5.0->ipywidgets>=7.0.0->gmaps) (0.5.1)\n",
            "Requirement already satisfied: pyparsing>=2.0.2 in /usr/local/lib/python3.6/dist-packages (from packaging->bleach->nbconvert->notebook>=4.4.1->widgetsnbextension~=3.5.0->ipywidgets>=7.0.0->gmaps) (2.4.7)\n"
          ],
          "name": "stdout"
        }
      ]
    },
    {
      "cell_type": "code",
      "metadata": {
        "id": "VYA-qPPJFcof",
        "colab_type": "code",
        "colab": {}
      },
      "source": [
        "import pandas as pd\n",
        "import numpy as np\n",
        "import matplotlib.pyplot as plt\n",
        "import seaborn as sns\n",
        "import re\n",
        "sns.set()"
      ],
      "execution_count": 77,
      "outputs": []
    },
    {
      "cell_type": "code",
      "metadata": {
        "id": "oqUL2GBzFuzY",
        "colab_type": "code",
        "colab": {
          "base_uri": "https://localhost:8080/",
          "height": 202
        },
        "outputId": "b668b103-ec68-4e03-9f6d-c64d6aa75f79"
      },
      "source": [
        "data=pd.read_csv(\"/content/ODI.csv\")\n",
        "data.head()"
      ],
      "execution_count": 78,
      "outputs": [
        {
          "output_type": "execute_result",
          "data": {
            "text/html": [
              "<div>\n",
              "<style scoped>\n",
              "    .dataframe tbody tr th:only-of-type {\n",
              "        vertical-align: middle;\n",
              "    }\n",
              "\n",
              "    .dataframe tbody tr th {\n",
              "        vertical-align: top;\n",
              "    }\n",
              "\n",
              "    .dataframe thead th {\n",
              "        text-align: right;\n",
              "    }\n",
              "</style>\n",
              "<table border=\"1\" class=\"dataframe\">\n",
              "  <thead>\n",
              "    <tr style=\"text-align: right;\">\n",
              "      <th></th>\n",
              "      <th>Team 1</th>\n",
              "      <th>Team 2</th>\n",
              "      <th>Winner</th>\n",
              "      <th>Margin</th>\n",
              "      <th>Ground</th>\n",
              "      <th>Match Date</th>\n",
              "      <th>Scorecard</th>\n",
              "    </tr>\n",
              "  </thead>\n",
              "  <tbody>\n",
              "    <tr>\n",
              "      <th>0</th>\n",
              "      <td>New Zealand</td>\n",
              "      <td>Pakistan</td>\n",
              "      <td>New Zealand</td>\n",
              "      <td>61 runs</td>\n",
              "      <td>Wellington</td>\n",
              "      <td>6-Jan-18</td>\n",
              "      <td>ODI # 3946</td>\n",
              "    </tr>\n",
              "    <tr>\n",
              "      <th>1</th>\n",
              "      <td>New Zealand</td>\n",
              "      <td>Pakistan</td>\n",
              "      <td>New Zealand</td>\n",
              "      <td>8 wickets</td>\n",
              "      <td>Nelson</td>\n",
              "      <td>9-Jan-18</td>\n",
              "      <td>ODI # 3947</td>\n",
              "    </tr>\n",
              "    <tr>\n",
              "      <th>2</th>\n",
              "      <td>U.A.E.</td>\n",
              "      <td>Ireland</td>\n",
              "      <td>Ireland</td>\n",
              "      <td>4 wickets</td>\n",
              "      <td>ICCA Dubai</td>\n",
              "      <td>11-Jan-18</td>\n",
              "      <td>ODI # 3948</td>\n",
              "    </tr>\n",
              "    <tr>\n",
              "      <th>3</th>\n",
              "      <td>New Zealand</td>\n",
              "      <td>Pakistan</td>\n",
              "      <td>New Zealand</td>\n",
              "      <td>183 runs</td>\n",
              "      <td>Dunedin</td>\n",
              "      <td>13-Jan-18</td>\n",
              "      <td>ODI # 3949</td>\n",
              "    </tr>\n",
              "    <tr>\n",
              "      <th>4</th>\n",
              "      <td>U.A.E.</td>\n",
              "      <td>Ireland</td>\n",
              "      <td>Ireland</td>\n",
              "      <td>67 runs</td>\n",
              "      <td>ICCA Dubai</td>\n",
              "      <td>13-Jan-18</td>\n",
              "      <td>ODI # 3950</td>\n",
              "    </tr>\n",
              "  </tbody>\n",
              "</table>\n",
              "</div>"
            ],
            "text/plain": [
              "        Team 1    Team 2       Winner  ...      Ground Match Date   Scorecard\n",
              "0  New Zealand  Pakistan  New Zealand  ...  Wellington   6-Jan-18  ODI # 3946\n",
              "1  New Zealand  Pakistan  New Zealand  ...      Nelson   9-Jan-18  ODI # 3947\n",
              "2       U.A.E.   Ireland      Ireland  ...  ICCA Dubai  11-Jan-18  ODI # 3948\n",
              "3  New Zealand  Pakistan  New Zealand  ...     Dunedin  13-Jan-18  ODI # 3949\n",
              "4       U.A.E.   Ireland      Ireland  ...  ICCA Dubai  13-Jan-18  ODI # 3950\n",
              "\n",
              "[5 rows x 7 columns]"
            ]
          },
          "metadata": {
            "tags": []
          },
          "execution_count": 78
        }
      ]
    },
    {
      "cell_type": "code",
      "metadata": {
        "id": "wmOX44X7t47n",
        "colab_type": "code",
        "colab": {
          "base_uri": "https://localhost:8080/",
          "height": 260
        },
        "outputId": "ba8508a2-bb8f-4231-9d32-6b81b159a9de"
      },
      "source": [
        "data.info()"
      ],
      "execution_count": 79,
      "outputs": [
        {
          "output_type": "stream",
          "text": [
            "<class 'pandas.core.frame.DataFrame'>\n",
            "RangeIndex: 128 entries, 0 to 127\n",
            "Data columns (total 7 columns):\n",
            " #   Column      Non-Null Count  Dtype \n",
            "---  ------      --------------  ----- \n",
            " 0   Team 1      128 non-null    object\n",
            " 1   Team 2      128 non-null    object\n",
            " 2   Winner      128 non-null    object\n",
            " 3   Margin      123 non-null    object\n",
            " 4   Ground      128 non-null    object\n",
            " 5   Match Date  128 non-null    object\n",
            " 6   Scorecard   128 non-null    object\n",
            "dtypes: object(7)\n",
            "memory usage: 7.1+ KB\n"
          ],
          "name": "stdout"
        }
      ]
    },
    {
      "cell_type": "markdown",
      "metadata": {
        "id": "MrzbeU6xuY_N",
        "colab_type": "text"
      },
      "source": [
        "##split columns by run and by wicket"
      ]
    },
    {
      "cell_type": "code",
      "metadata": {
        "id": "mPmEKGIYKrwF",
        "colab_type": "code",
        "colab": {}
      },
      "source": [
        "#split data['Margin'] by wicket and by run\n",
        "data[['num','run']]=data['Margin'].str.split(\" \",expand=True)\n",
        "a=data[data['run']=='runs']\n",
        "b=data[data['run']=='wickets']\n",
        "data['winner_by_run']=a['num']\n",
        "data['winner_by_wickets']=b['num']\n",
        "data1=data.drop(['Margin','num','run'],axis=1)"
      ],
      "execution_count": 80,
      "outputs": []
    },
    {
      "cell_type": "code",
      "metadata": {
        "id": "CRyqffuNK_5O",
        "colab_type": "code",
        "colab": {
          "base_uri": "https://localhost:8080/",
          "height": 202
        },
        "outputId": "180fe514-221e-4669-833f-94e67db6246f"
      },
      "source": [
        "#fill missing values with 0\n",
        "data1['winner_by_run'].fillna(\"0\",inplace = True)\n",
        "data1['winner_by_wickets'].fillna(\"0\",inplace = True)\n",
        "#convert data type from object to int\n",
        "data1['winner_by_run']=data1['winner_by_run'].astype('int64') \n",
        "data1['winner_by_wickets']=data1['winner_by_wickets'].astype('int64') \n",
        "data1.head()"
      ],
      "execution_count": 81,
      "outputs": [
        {
          "output_type": "execute_result",
          "data": {
            "text/html": [
              "<div>\n",
              "<style scoped>\n",
              "    .dataframe tbody tr th:only-of-type {\n",
              "        vertical-align: middle;\n",
              "    }\n",
              "\n",
              "    .dataframe tbody tr th {\n",
              "        vertical-align: top;\n",
              "    }\n",
              "\n",
              "    .dataframe thead th {\n",
              "        text-align: right;\n",
              "    }\n",
              "</style>\n",
              "<table border=\"1\" class=\"dataframe\">\n",
              "  <thead>\n",
              "    <tr style=\"text-align: right;\">\n",
              "      <th></th>\n",
              "      <th>Team 1</th>\n",
              "      <th>Team 2</th>\n",
              "      <th>Winner</th>\n",
              "      <th>Ground</th>\n",
              "      <th>Match Date</th>\n",
              "      <th>Scorecard</th>\n",
              "      <th>winner_by_run</th>\n",
              "      <th>winner_by_wickets</th>\n",
              "    </tr>\n",
              "  </thead>\n",
              "  <tbody>\n",
              "    <tr>\n",
              "      <th>0</th>\n",
              "      <td>New Zealand</td>\n",
              "      <td>Pakistan</td>\n",
              "      <td>New Zealand</td>\n",
              "      <td>Wellington</td>\n",
              "      <td>6-Jan-18</td>\n",
              "      <td>ODI # 3946</td>\n",
              "      <td>61</td>\n",
              "      <td>0</td>\n",
              "    </tr>\n",
              "    <tr>\n",
              "      <th>1</th>\n",
              "      <td>New Zealand</td>\n",
              "      <td>Pakistan</td>\n",
              "      <td>New Zealand</td>\n",
              "      <td>Nelson</td>\n",
              "      <td>9-Jan-18</td>\n",
              "      <td>ODI # 3947</td>\n",
              "      <td>0</td>\n",
              "      <td>8</td>\n",
              "    </tr>\n",
              "    <tr>\n",
              "      <th>2</th>\n",
              "      <td>U.A.E.</td>\n",
              "      <td>Ireland</td>\n",
              "      <td>Ireland</td>\n",
              "      <td>ICCA Dubai</td>\n",
              "      <td>11-Jan-18</td>\n",
              "      <td>ODI # 3948</td>\n",
              "      <td>0</td>\n",
              "      <td>4</td>\n",
              "    </tr>\n",
              "    <tr>\n",
              "      <th>3</th>\n",
              "      <td>New Zealand</td>\n",
              "      <td>Pakistan</td>\n",
              "      <td>New Zealand</td>\n",
              "      <td>Dunedin</td>\n",
              "      <td>13-Jan-18</td>\n",
              "      <td>ODI # 3949</td>\n",
              "      <td>183</td>\n",
              "      <td>0</td>\n",
              "    </tr>\n",
              "    <tr>\n",
              "      <th>4</th>\n",
              "      <td>U.A.E.</td>\n",
              "      <td>Ireland</td>\n",
              "      <td>Ireland</td>\n",
              "      <td>ICCA Dubai</td>\n",
              "      <td>13-Jan-18</td>\n",
              "      <td>ODI # 3950</td>\n",
              "      <td>67</td>\n",
              "      <td>0</td>\n",
              "    </tr>\n",
              "  </tbody>\n",
              "</table>\n",
              "</div>"
            ],
            "text/plain": [
              "        Team 1    Team 2  ... winner_by_run winner_by_wickets\n",
              "0  New Zealand  Pakistan  ...            61                 0\n",
              "1  New Zealand  Pakistan  ...             0                 8\n",
              "2       U.A.E.   Ireland  ...             0                 4\n",
              "3  New Zealand  Pakistan  ...           183                 0\n",
              "4       U.A.E.   Ireland  ...            67                 0\n",
              "\n",
              "[5 rows x 8 columns]"
            ]
          },
          "metadata": {
            "tags": []
          },
          "execution_count": 81
        }
      ]
    },
    {
      "cell_type": "markdown",
      "metadata": {
        "id": "FwzZvCmJqA0Y",
        "colab_type": "text"
      },
      "source": [
        "##which country played the most ODIs"
      ]
    },
    {
      "cell_type": "code",
      "metadata": {
        "id": "x8Va0LXimo7N",
        "colab_type": "code",
        "colab": {
          "base_uri": "https://localhost:8080/",
          "height": 104
        },
        "outputId": "77728bd8-58f1-4cda-f870-a482ec7adea7"
      },
      "source": [
        "countries=pd.concat([data1['Team 1'],data1['Team 2']])\n",
        "dict1=countries.value_counts() \n",
        "dict1.index"
      ],
      "execution_count": 82,
      "outputs": [
        {
          "output_type": "execute_result",
          "data": {
            "text/plain": [
              "Index(['Zimbabwe', 'England', 'India', 'Afghanistan', 'Bangladesh', 'Pakistan',\n",
              "       'West Indies', 'Sri Lanka', 'South Africa', 'Australia', 'New Zealand',\n",
              "       'Ireland', 'Scotland', 'U.A.E.', 'Hong Kong', 'P.N.G.', 'Nepal',\n",
              "       'Netherlands'],\n",
              "      dtype='object')"
            ]
          },
          "metadata": {
            "tags": []
          },
          "execution_count": 82
        }
      ]
    },
    {
      "cell_type": "code",
      "metadata": {
        "id": "LUDIZY_KwEjd",
        "colab_type": "code",
        "colab": {
          "base_uri": "https://localhost:8080/",
          "height": 34
        },
        "outputId": "516ec1d8-68e8-49d4-a713-dc9626b30472"
      },
      "source": [
        "dict1.idxmax()"
      ],
      "execution_count": 83,
      "outputs": [
        {
          "output_type": "execute_result",
          "data": {
            "text/plain": [
              "'Zimbabwe'"
            ]
          },
          "metadata": {
            "tags": []
          },
          "execution_count": 83
        }
      ]
    },
    {
      "cell_type": "code",
      "metadata": {
        "id": "OBcTX4i5ygxN",
        "colab_type": "code",
        "colab": {
          "base_uri": "https://localhost:8080/",
          "height": 692
        },
        "outputId": "4a51ff1c-8591-4e3e-cca2-c5bcbb5a8911"
      },
      "source": [
        "plt.figure(figsize=(15,10))\n",
        "plt.plot(dict1);\n",
        "plt.xticks(rotation=45)\n",
        "plt.ylabel(\"No of times a country played in ODI in 2018\")\n",
        "plt.xlabel(\"countries\")\n",
        "plt.title(\"no of times a country played in ODI in 2018\")"
      ],
      "execution_count": 84,
      "outputs": [
        {
          "output_type": "execute_result",
          "data": {
            "text/plain": [
              "Text(0.5, 1.0, 'no of times a country played in ODI in 2018')"
            ]
          },
          "metadata": {
            "tags": []
          },
          "execution_count": 84
        },
        {
          "output_type": "display_data",
          "data": {
            "image/png": "[encoded data removed]",
            "text/plain": [
              "<Figure size 1080x720 with 1 Axes>"
            ]
          },
          "metadata": {
            "tags": []
          }
        }
      ]
    },
    {
      "cell_type": "markdown",
      "metadata": {
        "id": "R7qcGg-4qVF0",
        "colab_type": "text"
      },
      "source": [
        "#Top 3 countries who won the most ODIs"
      ]
    },
    {
      "cell_type": "code",
      "metadata": {
        "id": "2jn0cCoiZ6LE",
        "colab_type": "code",
        "colab": {
          "base_uri": "https://localhost:8080/",
          "height": 381
        },
        "outputId": "bc056058-db38-4b6b-94ac-6200874310c0"
      },
      "source": [
        "count=data1['Winner'].value_counts() \n",
        "count"
      ],
      "execution_count": 85,
      "outputs": [
        {
          "output_type": "execute_result",
          "data": {
            "text/plain": [
              "England         17\n",
              "India           14\n",
              "Bangladesh      13\n",
              "Afghanistan     12\n",
              "South Africa     9\n",
              "West Indies      8\n",
              "New Zealand      8\n",
              "Ireland          8\n",
              "Pakistan         8\n",
              "Sri Lanka        6\n",
              "Zimbabwe         5\n",
              "Scotland         5\n",
              "U.A.E.           4\n",
              "tied             3\n",
              "no result        2\n",
              "Australia        2\n",
              "Hong Kong        1\n",
              "P.N.G.           1\n",
              "Netherlands      1\n",
              "Nepal            1\n",
              "Name: Winner, dtype: int64"
            ]
          },
          "metadata": {
            "tags": []
          },
          "execution_count": 85
        }
      ]
    },
    {
      "cell_type": "code",
      "metadata": {
        "id": "3fbl8u7YtpFg",
        "colab_type": "code",
        "colab": {
          "base_uri": "https://localhost:8080/",
          "height": 69
        },
        "outputId": "60a9d3e7-ceee-4ddb-e387-ed90eaff199a"
      },
      "source": [
        "for i in range(3):\n",
        "  print(count.index[i])"
      ],
      "execution_count": 86,
      "outputs": [
        {
          "output_type": "stream",
          "text": [
            "England\n",
            "India\n",
            "Bangladesh\n"
          ],
          "name": "stdout"
        }
      ]
    },
    {
      "cell_type": "markdown",
      "metadata": {
        "id": "dr_RGWoO7k-2",
        "colab_type": "text"
      },
      "source": [
        "##How was the performance of Sri Lanka"
      ]
    },
    {
      "cell_type": "code",
      "metadata": {
        "id": "hGB0se7z8dfL",
        "colab_type": "code",
        "colab": {
          "base_uri": "https://localhost:8080/",
          "height": 346
        },
        "outputId": "89a044b9-28ae-43fb-c581-004fe4a58c27"
      },
      "source": [
        "countries=pd.concat([data1['Team 1'],data1['Team 2']])\n",
        "dict1=countries.value_counts() \n",
        "dict1"
      ],
      "execution_count": 89,
      "outputs": [
        {
          "output_type": "execute_result",
          "data": {
            "text/plain": [
              "Zimbabwe        26\n",
              "England         24\n",
              "India           20\n",
              "Afghanistan     20\n",
              "Bangladesh      20\n",
              "Pakistan        18\n",
              "West Indies     18\n",
              "Sri Lanka       17\n",
              "South Africa    17\n",
              "Australia       13\n",
              "New Zealand     13\n",
              "Ireland         13\n",
              "Scotland        11\n",
              "U.A.E.          11\n",
              "Hong Kong        6\n",
              "P.N.G.           4\n",
              "Nepal            3\n",
              "Netherlands      2\n",
              "dtype: int64"
            ]
          },
          "metadata": {
            "tags": []
          },
          "execution_count": 89
        }
      ]
    },
    {
      "cell_type": "code",
      "metadata": {
        "id": "ypsoVrxmARlx",
        "colab_type": "code",
        "colab": {
          "base_uri": "https://localhost:8080/",
          "height": 381
        },
        "outputId": "8164e59c-703f-4339-ded6-e9c53a1d7c16"
      },
      "source": [
        "winner=data1['Winner'].value_counts() \n",
        "winner"
      ],
      "execution_count": 90,
      "outputs": [
        {
          "output_type": "execute_result",
          "data": {
            "text/plain": [
              "England         17\n",
              "India           14\n",
              "Bangladesh      13\n",
              "Afghanistan     12\n",
              "South Africa     9\n",
              "West Indies      8\n",
              "New Zealand      8\n",
              "Ireland          8\n",
              "Pakistan         8\n",
              "Sri Lanka        6\n",
              "Zimbabwe         5\n",
              "Scotland         5\n",
              "U.A.E.           4\n",
              "tied             3\n",
              "no result        2\n",
              "Australia        2\n",
              "Hong Kong        1\n",
              "P.N.G.           1\n",
              "Netherlands      1\n",
              "Nepal            1\n",
              "Name: Winner, dtype: int64"
            ]
          },
          "metadata": {
            "tags": []
          },
          "execution_count": 90
        }
      ]
    },
    {
      "cell_type": "code",
      "metadata": {
        "id": "6anYZSGM8vpg",
        "colab_type": "code",
        "colab": {
          "base_uri": "https://localhost:8080/",
          "height": 34
        },
        "outputId": "c25dd959-28a2-4e28-9c05-2e3de60f8971"
      },
      "source": [
        "#Sri Lanka played 17 matches out of 128\n",
        "performance=(winner.loc['Sri Lanka']/dict1.loc['Sri Lanka'])*100\n",
        "performance"
      ],
      "execution_count": 91,
      "outputs": [
        {
          "output_type": "execute_result",
          "data": {
            "text/plain": [
              "35.294117647058826"
            ]
          },
          "metadata": {
            "tags": []
          },
          "execution_count": 91
        }
      ]
    },
    {
      "cell_type": "code",
      "metadata": {
        "id": "WXiwNWiHCbLM",
        "colab_type": "code",
        "colab": {
          "base_uri": "https://localhost:8080/",
          "height": 601
        },
        "outputId": "54d2117a-a86d-48d3-c887-63fc23e6eb95"
      },
      "source": [
        "per={}\n",
        "for i in dict1.index:\n",
        "  for j in winner.index:\n",
        "    if i==j:\n",
        "      win=(winner.loc[j]/dict1.loc[i])*100\n",
        "      per[i]=win\n",
        "perf=pd.DataFrame(per.items())\n",
        "perf.columns =['country', 'performance']\n",
        "perf"
      ],
      "execution_count": 92,
      "outputs": [
        {
          "output_type": "execute_result",
          "data": {
            "text/html": [
              "<div>\n",
              "<style scoped>\n",
              "    .dataframe tbody tr th:only-of-type {\n",
              "        vertical-align: middle;\n",
              "    }\n",
              "\n",
              "    .dataframe tbody tr th {\n",
              "        vertical-align: top;\n",
              "    }\n",
              "\n",
              "    .dataframe thead th {\n",
              "        text-align: right;\n",
              "    }\n",
              "</style>\n",
              "<table border=\"1\" class=\"dataframe\">\n",
              "  <thead>\n",
              "    <tr style=\"text-align: right;\">\n",
              "      <th></th>\n",
              "      <th>country</th>\n",
              "      <th>performance</th>\n",
              "    </tr>\n",
              "  </thead>\n",
              "  <tbody>\n",
              "    <tr>\n",
              "      <th>0</th>\n",
              "      <td>Zimbabwe</td>\n",
              "      <td>19.230769</td>\n",
              "    </tr>\n",
              "    <tr>\n",
              "      <th>1</th>\n",
              "      <td>England</td>\n",
              "      <td>70.833333</td>\n",
              "    </tr>\n",
              "    <tr>\n",
              "      <th>2</th>\n",
              "      <td>India</td>\n",
              "      <td>70.000000</td>\n",
              "    </tr>\n",
              "    <tr>\n",
              "      <th>3</th>\n",
              "      <td>Afghanistan</td>\n",
              "      <td>60.000000</td>\n",
              "    </tr>\n",
              "    <tr>\n",
              "      <th>4</th>\n",
              "      <td>Bangladesh</td>\n",
              "      <td>65.000000</td>\n",
              "    </tr>\n",
              "    <tr>\n",
              "      <th>5</th>\n",
              "      <td>Pakistan</td>\n",
              "      <td>44.444444</td>\n",
              "    </tr>\n",
              "    <tr>\n",
              "      <th>6</th>\n",
              "      <td>West Indies</td>\n",
              "      <td>44.444444</td>\n",
              "    </tr>\n",
              "    <tr>\n",
              "      <th>7</th>\n",
              "      <td>Sri Lanka</td>\n",
              "      <td>35.294118</td>\n",
              "    </tr>\n",
              "    <tr>\n",
              "      <th>8</th>\n",
              "      <td>South Africa</td>\n",
              "      <td>52.941176</td>\n",
              "    </tr>\n",
              "    <tr>\n",
              "      <th>9</th>\n",
              "      <td>Australia</td>\n",
              "      <td>15.384615</td>\n",
              "    </tr>\n",
              "    <tr>\n",
              "      <th>10</th>\n",
              "      <td>New Zealand</td>\n",
              "      <td>61.538462</td>\n",
              "    </tr>\n",
              "    <tr>\n",
              "      <th>11</th>\n",
              "      <td>Ireland</td>\n",
              "      <td>61.538462</td>\n",
              "    </tr>\n",
              "    <tr>\n",
              "      <th>12</th>\n",
              "      <td>Scotland</td>\n",
              "      <td>45.454545</td>\n",
              "    </tr>\n",
              "    <tr>\n",
              "      <th>13</th>\n",
              "      <td>U.A.E.</td>\n",
              "      <td>36.363636</td>\n",
              "    </tr>\n",
              "    <tr>\n",
              "      <th>14</th>\n",
              "      <td>Hong Kong</td>\n",
              "      <td>16.666667</td>\n",
              "    </tr>\n",
              "    <tr>\n",
              "      <th>15</th>\n",
              "      <td>P.N.G.</td>\n",
              "      <td>25.000000</td>\n",
              "    </tr>\n",
              "    <tr>\n",
              "      <th>16</th>\n",
              "      <td>Nepal</td>\n",
              "      <td>33.333333</td>\n",
              "    </tr>\n",
              "    <tr>\n",
              "      <th>17</th>\n",
              "      <td>Netherlands</td>\n",
              "      <td>50.000000</td>\n",
              "    </tr>\n",
              "  </tbody>\n",
              "</table>\n",
              "</div>"
            ],
            "text/plain": [
              "         country  performance\n",
              "0       Zimbabwe    19.230769\n",
              "1        England    70.833333\n",
              "2          India    70.000000\n",
              "3    Afghanistan    60.000000\n",
              "4     Bangladesh    65.000000\n",
              "5       Pakistan    44.444444\n",
              "6    West Indies    44.444444\n",
              "7      Sri Lanka    35.294118\n",
              "8   South Africa    52.941176\n",
              "9      Australia    15.384615\n",
              "10   New Zealand    61.538462\n",
              "11       Ireland    61.538462\n",
              "12      Scotland    45.454545\n",
              "13        U.A.E.    36.363636\n",
              "14     Hong Kong    16.666667\n",
              "15        P.N.G.    25.000000\n",
              "16         Nepal    33.333333\n",
              "17   Netherlands    50.000000"
            ]
          },
          "metadata": {
            "tags": []
          },
          "execution_count": 92
        }
      ]
    },
    {
      "cell_type": "code",
      "metadata": {
        "id": "qBDlOwIZPn0H",
        "colab_type": "code",
        "colab": {
          "base_uri": "https://localhost:8080/",
          "height": 692
        },
        "outputId": "ad733929-185d-4913-ae6f-f54183e2db71"
      },
      "source": [
        "plt.figure(figsize=(15,10))\n",
        "plt.plot(perf['country'],perf['performance']);\n",
        "plt.scatter(perf['country'],perf['performance']);\n",
        "plt.xticks(rotation=45)\n",
        "plt.ylabel(\"performance in %\")\n",
        "plt.xlabel(\"countries\")\n",
        "plt.title(\"countries and their performance\")"
      ],
      "execution_count": 93,
      "outputs": [
        {
          "output_type": "execute_result",
          "data": {
            "text/plain": [
              "Text(0.5, 1.0, 'countries and their performance')"
            ]
          },
          "metadata": {
            "tags": []
          },
          "execution_count": 93
        },
        {
          "output_type": "display_data",
          "data": {
            "image/png": "[encoded data removed]",
            "text/plain": [
              "<Figure size 1080x720 with 1 Axes>"
            ]
          },
          "metadata": {
            "tags": []
          }
        }
      ]
    },
    {
      "cell_type": "markdown",
      "metadata": {
        "id": "2AmV5qb8IgqH",
        "colab_type": "text"
      },
      "source": [
        "##What are the top 3 wins by Runs"
      ]
    },
    {
      "cell_type": "code",
      "metadata": {
        "id": "uSaAecWsIrAU",
        "colab_type": "code",
        "colab": {}
      },
      "source": [
        "data2=data1[data1['winner_by_run']!=0]"
      ],
      "execution_count": 94,
      "outputs": []
    },
    {
      "cell_type": "code",
      "metadata": {
        "id": "ahc4Fz4CIq9J",
        "colab_type": "code",
        "colab": {
          "base_uri": "https://localhost:8080/",
          "height": 570
        },
        "outputId": "feced359-db00-4240-c8c8-6f948afb3849"
      },
      "source": [
        "winner=data2['Winner'].value_counts() \n",
        "w=pd.DataFrame(winner)\n",
        "w"
      ],
      "execution_count": 95,
      "outputs": [
        {
          "output_type": "execute_result",
          "data": {
            "text/html": [
              "<div>\n",
              "<style scoped>\n",
              "    .dataframe tbody tr th:only-of-type {\n",
              "        vertical-align: middle;\n",
              "    }\n",
              "\n",
              "    .dataframe tbody tr th {\n",
              "        vertical-align: top;\n",
              "    }\n",
              "\n",
              "    .dataframe thead th {\n",
              "        text-align: right;\n",
              "    }\n",
              "</style>\n",
              "<table border=\"1\" class=\"dataframe\">\n",
              "  <thead>\n",
              "    <tr style=\"text-align: right;\">\n",
              "      <th></th>\n",
              "      <th>Winner</th>\n",
              "    </tr>\n",
              "  </thead>\n",
              "  <tbody>\n",
              "    <tr>\n",
              "      <th>England</th>\n",
              "      <td>8</td>\n",
              "    </tr>\n",
              "    <tr>\n",
              "      <th>Bangladesh</th>\n",
              "      <td>8</td>\n",
              "    </tr>\n",
              "    <tr>\n",
              "      <th>West Indies</th>\n",
              "      <td>5</td>\n",
              "    </tr>\n",
              "    <tr>\n",
              "      <th>Afghanistan</th>\n",
              "      <td>5</td>\n",
              "    </tr>\n",
              "    <tr>\n",
              "      <th>Zimbabwe</th>\n",
              "      <td>5</td>\n",
              "    </tr>\n",
              "    <tr>\n",
              "      <th>Ireland</th>\n",
              "      <td>4</td>\n",
              "    </tr>\n",
              "    <tr>\n",
              "      <th>Sri Lanka</th>\n",
              "      <td>4</td>\n",
              "    </tr>\n",
              "    <tr>\n",
              "      <th>India</th>\n",
              "      <td>4</td>\n",
              "    </tr>\n",
              "    <tr>\n",
              "      <th>New Zealand</th>\n",
              "      <td>4</td>\n",
              "    </tr>\n",
              "    <tr>\n",
              "      <th>U.A.E.</th>\n",
              "      <td>3</td>\n",
              "    </tr>\n",
              "    <tr>\n",
              "      <th>South Africa</th>\n",
              "      <td>3</td>\n",
              "    </tr>\n",
              "    <tr>\n",
              "      <th>Scotland</th>\n",
              "      <td>3</td>\n",
              "    </tr>\n",
              "    <tr>\n",
              "      <th>Pakistan</th>\n",
              "      <td>3</td>\n",
              "    </tr>\n",
              "    <tr>\n",
              "      <th>Australia</th>\n",
              "      <td>1</td>\n",
              "    </tr>\n",
              "    <tr>\n",
              "      <th>Hong Kong</th>\n",
              "      <td>1</td>\n",
              "    </tr>\n",
              "    <tr>\n",
              "      <th>P.N.G.</th>\n",
              "      <td>1</td>\n",
              "    </tr>\n",
              "    <tr>\n",
              "      <th>Netherlands</th>\n",
              "      <td>1</td>\n",
              "    </tr>\n",
              "  </tbody>\n",
              "</table>\n",
              "</div>"
            ],
            "text/plain": [
              "              Winner\n",
              "England            8\n",
              "Bangladesh         8\n",
              "West Indies        5\n",
              "Afghanistan        5\n",
              "Zimbabwe           5\n",
              "Ireland            4\n",
              "Sri Lanka          4\n",
              "India              4\n",
              "New Zealand        4\n",
              "U.A.E.             3\n",
              "South Africa       3\n",
              "Scotland           3\n",
              "Pakistan           3\n",
              "Australia          1\n",
              "Hong Kong          1\n",
              "P.N.G.             1\n",
              "Netherlands        1"
            ]
          },
          "metadata": {
            "tags": []
          },
          "execution_count": 95
        }
      ]
    },
    {
      "cell_type": "markdown",
      "metadata": {
        "id": "Fa6COvhQIrku",
        "colab_type": "text"
      },
      "source": [
        "##Month in which most ODIs were played"
      ]
    },
    {
      "cell_type": "code",
      "metadata": {
        "id": "824w2U7_JHxE",
        "colab_type": "code",
        "colab": {
          "base_uri": "https://localhost:8080/",
          "height": 202
        },
        "outputId": "7aad93e0-fd68-4449-ce23-2224b1f2c07e"
      },
      "source": [
        "\n",
        "data1['Match Date'] = pd.to_datetime(data1['Match Date'])\n",
        "data1.head()"
      ],
      "execution_count": 96,
      "outputs": [
        {
          "output_type": "execute_result",
          "data": {
            "text/html": [
              "<div>\n",
              "<style scoped>\n",
              "    .dataframe tbody tr th:only-of-type {\n",
              "        vertical-align: middle;\n",
              "    }\n",
              "\n",
              "    .dataframe tbody tr th {\n",
              "        vertical-align: top;\n",
              "    }\n",
              "\n",
              "    .dataframe thead th {\n",
              "        text-align: right;\n",
              "    }\n",
              "</style>\n",
              "<table border=\"1\" class=\"dataframe\">\n",
              "  <thead>\n",
              "    <tr style=\"text-align: right;\">\n",
              "      <th></th>\n",
              "      <th>Team 1</th>\n",
              "      <th>Team 2</th>\n",
              "      <th>Winner</th>\n",
              "      <th>Ground</th>\n",
              "      <th>Match Date</th>\n",
              "      <th>Scorecard</th>\n",
              "      <th>winner_by_run</th>\n",
              "      <th>winner_by_wickets</th>\n",
              "    </tr>\n",
              "  </thead>\n",
              "  <tbody>\n",
              "    <tr>\n",
              "      <th>0</th>\n",
              "      <td>New Zealand</td>\n",
              "      <td>Pakistan</td>\n",
              "      <td>New Zealand</td>\n",
              "      <td>Wellington</td>\n",
              "      <td>2018-01-06</td>\n",
              "      <td>ODI # 3946</td>\n",
              "      <td>61</td>\n",
              "      <td>0</td>\n",
              "    </tr>\n",
              "    <tr>\n",
              "      <th>1</th>\n",
              "      <td>New Zealand</td>\n",
              "      <td>Pakistan</td>\n",
              "      <td>New Zealand</td>\n",
              "      <td>Nelson</td>\n",
              "      <td>2018-01-09</td>\n",
              "      <td>ODI # 3947</td>\n",
              "      <td>0</td>\n",
              "      <td>8</td>\n",
              "    </tr>\n",
              "    <tr>\n",
              "      <th>2</th>\n",
              "      <td>U.A.E.</td>\n",
              "      <td>Ireland</td>\n",
              "      <td>Ireland</td>\n",
              "      <td>ICCA Dubai</td>\n",
              "      <td>2018-01-11</td>\n",
              "      <td>ODI # 3948</td>\n",
              "      <td>0</td>\n",
              "      <td>4</td>\n",
              "    </tr>\n",
              "    <tr>\n",
              "      <th>3</th>\n",
              "      <td>New Zealand</td>\n",
              "      <td>Pakistan</td>\n",
              "      <td>New Zealand</td>\n",
              "      <td>Dunedin</td>\n",
              "      <td>2018-01-13</td>\n",
              "      <td>ODI # 3949</td>\n",
              "      <td>183</td>\n",
              "      <td>0</td>\n",
              "    </tr>\n",
              "    <tr>\n",
              "      <th>4</th>\n",
              "      <td>U.A.E.</td>\n",
              "      <td>Ireland</td>\n",
              "      <td>Ireland</td>\n",
              "      <td>ICCA Dubai</td>\n",
              "      <td>2018-01-13</td>\n",
              "      <td>ODI # 3950</td>\n",
              "      <td>67</td>\n",
              "      <td>0</td>\n",
              "    </tr>\n",
              "  </tbody>\n",
              "</table>\n",
              "</div>"
            ],
            "text/plain": [
              "        Team 1    Team 2  ... winner_by_run winner_by_wickets\n",
              "0  New Zealand  Pakistan  ...            61                 0\n",
              "1  New Zealand  Pakistan  ...             0                 8\n",
              "2       U.A.E.   Ireland  ...             0                 4\n",
              "3  New Zealand  Pakistan  ...           183                 0\n",
              "4       U.A.E.   Ireland  ...            67                 0\n",
              "\n",
              "[5 rows x 8 columns]"
            ]
          },
          "metadata": {
            "tags": []
          },
          "execution_count": 96
        }
      ]
    },
    {
      "cell_type": "code",
      "metadata": {
        "id": "cHf_AAPhJHqU",
        "colab_type": "code",
        "colab": {}
      },
      "source": [
        "import datetime as datetime\n",
        "data3=data1.groupby([data1['Match Date'].dt.month]).agg({'Team 1':'count'})\n",
        "data4=pd.DataFrame([data3.index,data3.values]).T\n",
        "data4.columns =['month', 'count']\n",
        "data4['count']=data4['count'].astype('int64')\n",
        "\n",
        "\n",
        "\n",
        "month_name=[]\n",
        "for i in data4['month']:\n",
        "  datetime_object = datetime.datetime.strptime(str(i), \"%m\")\n",
        "  month_name.append(datetime_object.strftime(\"%b\"))\n",
        "data4['month_name']=month_name\n",
        "data4.drop(['month'],axis=1,inplace=True)"
      ],
      "execution_count": 97,
      "outputs": []
    },
    {
      "cell_type": "code",
      "metadata": {
        "id": "r4_voJlahf_n",
        "colab_type": "code",
        "colab": {
          "base_uri": "https://localhost:8080/",
          "height": 52
        },
        "outputId": "4613a473-9577-49c9-9421-d342f6b169d9"
      },
      "source": [
        "data5=data4.set_index(['month_name'])\n",
        "data5.idxmax(axis = 0)"
      ],
      "execution_count": 98,
      "outputs": [
        {
          "output_type": "execute_result",
          "data": {
            "text/plain": [
              "count    Mar\n",
              "dtype: object"
            ]
          },
          "metadata": {
            "tags": []
          },
          "execution_count": 98
        }
      ]
    },
    {
      "cell_type": "markdown",
      "metadata": {
        "id": "pqfxQ6DTJZLD",
        "colab_type": "text"
      },
      "source": [
        "##how many cricket match played every month"
      ]
    },
    {
      "cell_type": "code",
      "metadata": {
        "id": "rO3O3Cf2JX7-",
        "colab_type": "code",
        "colab": {
          "base_uri": "https://localhost:8080/",
          "height": 356
        },
        "outputId": "228190f3-29c4-437f-8a9c-cdd4e2a0655b"
      },
      "source": [
        "data4"
      ],
      "execution_count": 99,
      "outputs": [
        {
          "output_type": "execute_result",
          "data": {
            "text/html": [
              "<div>\n",
              "<style scoped>\n",
              "    .dataframe tbody tr th:only-of-type {\n",
              "        vertical-align: middle;\n",
              "    }\n",
              "\n",
              "    .dataframe tbody tr th {\n",
              "        vertical-align: top;\n",
              "    }\n",
              "\n",
              "    .dataframe thead th {\n",
              "        text-align: right;\n",
              "    }\n",
              "</style>\n",
              "<table border=\"1\" class=\"dataframe\">\n",
              "  <thead>\n",
              "    <tr style=\"text-align: right;\">\n",
              "      <th></th>\n",
              "      <th>count</th>\n",
              "      <th>month_name</th>\n",
              "    </tr>\n",
              "  </thead>\n",
              "  <tbody>\n",
              "    <tr>\n",
              "      <th>0</th>\n",
              "      <td>23</td>\n",
              "      <td>Jan</td>\n",
              "    </tr>\n",
              "    <tr>\n",
              "      <th>1</th>\n",
              "      <td>13</td>\n",
              "      <td>Feb</td>\n",
              "    </tr>\n",
              "    <tr>\n",
              "      <th>2</th>\n",
              "      <td>26</td>\n",
              "      <td>Mar</td>\n",
              "    </tr>\n",
              "    <tr>\n",
              "      <th>3</th>\n",
              "      <td>6</td>\n",
              "      <td>Jun</td>\n",
              "    </tr>\n",
              "    <tr>\n",
              "      <th>4</th>\n",
              "      <td>12</td>\n",
              "      <td>Jul</td>\n",
              "    </tr>\n",
              "    <tr>\n",
              "      <th>5</th>\n",
              "      <td>10</td>\n",
              "      <td>Aug</td>\n",
              "    </tr>\n",
              "    <tr>\n",
              "      <th>6</th>\n",
              "      <td>14</td>\n",
              "      <td>Sep</td>\n",
              "    </tr>\n",
              "    <tr>\n",
              "      <th>7</th>\n",
              "      <td>14</td>\n",
              "      <td>Oct</td>\n",
              "    </tr>\n",
              "    <tr>\n",
              "      <th>8</th>\n",
              "      <td>7</td>\n",
              "      <td>Nov</td>\n",
              "    </tr>\n",
              "    <tr>\n",
              "      <th>9</th>\n",
              "      <td>3</td>\n",
              "      <td>Dec</td>\n",
              "    </tr>\n",
              "  </tbody>\n",
              "</table>\n",
              "</div>"
            ],
            "text/plain": [
              "   count month_name\n",
              "0     23        Jan\n",
              "1     13        Feb\n",
              "2     26        Mar\n",
              "3      6        Jun\n",
              "4     12        Jul\n",
              "5     10        Aug\n",
              "6     14        Sep\n",
              "7     14        Oct\n",
              "8      7        Nov\n",
              "9      3        Dec"
            ]
          },
          "metadata": {
            "tags": []
          },
          "execution_count": 99
        }
      ]
    },
    {
      "cell_type": "code",
      "metadata": {
        "id": "O9OuQwrZJYuS",
        "colab_type": "code",
        "colab": {
          "base_uri": "https://localhost:8080/",
          "height": 656
        },
        "outputId": "df25b955-9d3c-48d3-de0e-3231663a214c"
      },
      "source": [
        "plt.figure(figsize=(15,10))\n",
        "plt.plot(data4['month_name'],data4['count']);\n",
        "plt.scatter(data4['month_name'],data4['count']);\n",
        "plt.xticks(rotation=45)\n",
        "plt.ylabel(\"total no of cricket played\")\n",
        "plt.xlabel(\"month\")\n",
        "plt.title(\"cricket match played every month\")"
      ],
      "execution_count": 100,
      "outputs": [
        {
          "output_type": "execute_result",
          "data": {
            "text/plain": [
              "Text(0.5, 1.0, 'cricket match played every month')"
            ]
          },
          "metadata": {
            "tags": []
          },
          "execution_count": 100
        },
        {
          "output_type": "display_data",
          "data": {
            "image/png": "[encoded data removed]",
            "text/plain": [
              "<Figure size 1080x720 with 1 Axes>"
            ]
          },
          "metadata": {
            "tags": []
          }
        }
      ]
    },
    {
      "cell_type": "markdown",
      "metadata": {
        "id": "LJ7uUgr4J05V",
        "colab_type": "text"
      },
      "source": [
        "##On which ground most games were played"
      ]
    },
    {
      "cell_type": "code",
      "metadata": {
        "id": "P-JRvokvJ_RV",
        "colab_type": "code",
        "colab": {}
      },
      "source": [
        "ground=data1['Ground'].value_counts()"
      ],
      "execution_count": 101,
      "outputs": []
    },
    {
      "cell_type": "code",
      "metadata": {
        "id": "z19PJ5iqKAgk",
        "colab_type": "code",
        "colab": {
          "base_uri": "https://localhost:8080/",
          "height": 34
        },
        "outputId": "d9a43582-1caf-40b3-8506-04d18ce61b6f"
      },
      "source": [
        "ground.idxmax()"
      ],
      "execution_count": 102,
      "outputs": [
        {
          "output_type": "execute_result",
          "data": {
            "text/plain": [
              "'Harare'"
            ]
          },
          "metadata": {
            "tags": []
          },
          "execution_count": 102
        }
      ]
    },
    {
      "cell_type": "markdown",
      "metadata": {
        "id": "lLS7u-oGKQ68",
        "colab_type": "text"
      },
      "source": [
        "##top most countries win matches in 2018, what were there winning percentage every month"
      ]
    },
    {
      "cell_type": "code",
      "metadata": {
        "id": "qVUx7kOLKdmj",
        "colab_type": "code",
        "colab": {
          "base_uri": "https://localhost:8080/",
          "height": 34
        },
        "outputId": "1592ec33-2413-4744-9ab5-84e1a10d7bfb"
      },
      "source": [
        "winner=data1['Winner'].value_counts() \n",
        "#top 3 countries who win the most matches in 2018\n",
        "winner.index[0:3]"
      ],
      "execution_count": 103,
      "outputs": [
        {
          "output_type": "execute_result",
          "data": {
            "text/plain": [
              "Index(['England', 'India', 'Bangladesh'], dtype='object')"
            ]
          },
          "metadata": {
            "tags": []
          },
          "execution_count": 103
        }
      ]
    },
    {
      "cell_type": "code",
      "metadata": {
        "id": "to9tqp1gInU-",
        "colab_type": "code",
        "colab": {}
      },
      "source": [
        "df=data1\n",
        "df[\"day\"] = df['Match Date'].map(lambda x: x.day)\n",
        "df[\"month\"] = df['Match Date'].map(lambda x: x.month)\n",
        "df[\"year\"] = df['Match Date'].map(lambda x: x.year)\n",
        "df.drop(['Match Date'],axis=1,inplace=True)"
      ],
      "execution_count": 104,
      "outputs": []
    },
    {
      "cell_type": "code",
      "metadata": {
        "id": "cn2koLkYIm6h",
        "colab_type": "code",
        "colab": {
          "base_uri": "https://localhost:8080/",
          "height": 264
        },
        "outputId": "111d1662-f3b2-44a6-fd81-dda7f9f02885"
      },
      "source": [
        "month_name=[]\n",
        "for i in df['month']:\n",
        "  datetime_object = datetime.datetime.strptime(str(i), \"%m\")\n",
        "  month_name.append(datetime_object.strftime(\"%b\"))\n",
        "df['month']=month_name\n",
        "a=df[df['Winner']=='England']\n",
        "b=a.groupby([a['month']]).agg({'Winner':'count'})\n",
        "b.index = pd.CategoricalIndex(b.index,categories=['Jan', 'Feb', 'Mar', 'Apr','May','Jun', 'Jul', 'Aug','Sep', 'Oct', 'Nov', 'Dec'],ordered=True)\n",
        "b = b.sort_index()\n",
        "b"
      ],
      "execution_count": 105,
      "outputs": [
        {
          "output_type": "execute_result",
          "data": {
            "text/html": [
              "<div>\n",
              "<style scoped>\n",
              "    .dataframe tbody tr th:only-of-type {\n",
              "        vertical-align: middle;\n",
              "    }\n",
              "\n",
              "    .dataframe tbody tr th {\n",
              "        vertical-align: top;\n",
              "    }\n",
              "\n",
              "    .dataframe thead th {\n",
              "        text-align: right;\n",
              "    }\n",
              "</style>\n",
              "<table border=\"1\" class=\"dataframe\">\n",
              "  <thead>\n",
              "    <tr style=\"text-align: right;\">\n",
              "      <th></th>\n",
              "      <th>Winner</th>\n",
              "    </tr>\n",
              "    <tr>\n",
              "      <th>month</th>\n",
              "      <th></th>\n",
              "    </tr>\n",
              "  </thead>\n",
              "  <tbody>\n",
              "    <tr>\n",
              "      <th>Feb</th>\n",
              "      <td>1</td>\n",
              "    </tr>\n",
              "    <tr>\n",
              "      <th>Jan</th>\n",
              "      <td>4</td>\n",
              "    </tr>\n",
              "    <tr>\n",
              "      <th>Jul</th>\n",
              "      <td>2</td>\n",
              "    </tr>\n",
              "    <tr>\n",
              "      <th>Jun</th>\n",
              "      <td>5</td>\n",
              "    </tr>\n",
              "    <tr>\n",
              "      <th>Mar</th>\n",
              "      <td>2</td>\n",
              "    </tr>\n",
              "    <tr>\n",
              "      <th>Oct</th>\n",
              "      <td>3</td>\n",
              "    </tr>\n",
              "  </tbody>\n",
              "</table>\n",
              "</div>"
            ],
            "text/plain": [
              "       Winner\n",
              "month        \n",
              "Feb         1\n",
              "Jan         4\n",
              "Jul         2\n",
              "Jun         5\n",
              "Mar         2\n",
              "Oct         3"
            ]
          },
          "metadata": {
            "tags": []
          },
          "execution_count": 105
        }
      ]
    },
    {
      "cell_type": "code",
      "metadata": {
        "id": "uUvOE8TwMeE4",
        "colab_type": "code",
        "colab": {
          "base_uri": "https://localhost:8080/",
          "height": 264
        },
        "outputId": "22960fdc-8821-4eee-8f7f-b93f69f74895"
      },
      "source": [
        "x=df['Team 2']=='England'\n",
        "y=df['Team 1']=='England'\n",
        "ddf=df[x | y]\n",
        "bb1=ddf.groupby([ddf['month']]).agg({'Team 1':'count'})\n",
        "bb1.index = pd.CategoricalIndex(bb1.index,categories=['Jan', 'Feb', 'Mar', 'Apr','May','Jun', 'Jul', 'Aug','Sep', 'Oct', 'Nov', 'Dec'],ordered=True)\n",
        "bb1 = bb1.sort_index()\n",
        "bb1"
      ],
      "execution_count": 122,
      "outputs": [
        {
          "output_type": "execute_result",
          "data": {
            "text/html": [
              "<div>\n",
              "<style scoped>\n",
              "    .dataframe tbody tr th:only-of-type {\n",
              "        vertical-align: middle;\n",
              "    }\n",
              "\n",
              "    .dataframe tbody tr th {\n",
              "        vertical-align: top;\n",
              "    }\n",
              "\n",
              "    .dataframe thead th {\n",
              "        text-align: right;\n",
              "    }\n",
              "</style>\n",
              "<table border=\"1\" class=\"dataframe\">\n",
              "  <thead>\n",
              "    <tr style=\"text-align: right;\">\n",
              "      <th></th>\n",
              "      <th>Team 1</th>\n",
              "    </tr>\n",
              "    <tr>\n",
              "      <th>month</th>\n",
              "      <th></th>\n",
              "    </tr>\n",
              "  </thead>\n",
              "  <tbody>\n",
              "    <tr>\n",
              "      <th>Feb</th>\n",
              "      <td>2</td>\n",
              "    </tr>\n",
              "    <tr>\n",
              "      <th>Jan</th>\n",
              "      <td>5</td>\n",
              "    </tr>\n",
              "    <tr>\n",
              "      <th>Jul</th>\n",
              "      <td>3</td>\n",
              "    </tr>\n",
              "    <tr>\n",
              "      <th>Jun</th>\n",
              "      <td>6</td>\n",
              "    </tr>\n",
              "    <tr>\n",
              "      <th>Mar</th>\n",
              "      <td>3</td>\n",
              "    </tr>\n",
              "    <tr>\n",
              "      <th>Oct</th>\n",
              "      <td>5</td>\n",
              "    </tr>\n",
              "  </tbody>\n",
              "</table>\n",
              "</div>"
            ],
            "text/plain": [
              "       Team 1\n",
              "month        \n",
              "Feb         2\n",
              "Jan         5\n",
              "Jul         3\n",
              "Jun         6\n",
              "Mar         3\n",
              "Oct         5"
            ]
          },
          "metadata": {
            "tags": []
          },
          "execution_count": 122
        }
      ]
    },
    {
      "cell_type": "code",
      "metadata": {
        "id": "vnNwKoEhYENa",
        "colab_type": "code",
        "colab": {
          "base_uri": "https://localhost:8080/",
          "height": 233
        },
        "outputId": "890b1deb-81d9-439a-ecd8-68bccd906148"
      },
      "source": [
        "per={}\n",
        "for i in bb1.index:\n",
        "  for j in b.index:\n",
        "    if i==j:\n",
        "      win=(b.loc[j][0]/bb1.loc[i][0])*100\n",
        "      per[i]=win\n",
        "perf=pd.DataFrame(per.items())\n",
        "perf.columns =['month', 'performance']\n",
        "perf"
      ],
      "execution_count": 142,
      "outputs": [
        {
          "output_type": "execute_result",
          "data": {
            "text/html": [
              "<div>\n",
              "<style scoped>\n",
              "    .dataframe tbody tr th:only-of-type {\n",
              "        vertical-align: middle;\n",
              "    }\n",
              "\n",
              "    .dataframe tbody tr th {\n",
              "        vertical-align: top;\n",
              "    }\n",
              "\n",
              "    .dataframe thead th {\n",
              "        text-align: right;\n",
              "    }\n",
              "</style>\n",
              "<table border=\"1\" class=\"dataframe\">\n",
              "  <thead>\n",
              "    <tr style=\"text-align: right;\">\n",
              "      <th></th>\n",
              "      <th>month</th>\n",
              "      <th>performance</th>\n",
              "    </tr>\n",
              "  </thead>\n",
              "  <tbody>\n",
              "    <tr>\n",
              "      <th>0</th>\n",
              "      <td>Jan</td>\n",
              "      <td>80.000000</td>\n",
              "    </tr>\n",
              "    <tr>\n",
              "      <th>1</th>\n",
              "      <td>Feb</td>\n",
              "      <td>50.000000</td>\n",
              "    </tr>\n",
              "    <tr>\n",
              "      <th>2</th>\n",
              "      <td>Mar</td>\n",
              "      <td>66.666667</td>\n",
              "    </tr>\n",
              "    <tr>\n",
              "      <th>3</th>\n",
              "      <td>Jun</td>\n",
              "      <td>83.333333</td>\n",
              "    </tr>\n",
              "    <tr>\n",
              "      <th>4</th>\n",
              "      <td>Jul</td>\n",
              "      <td>66.666667</td>\n",
              "    </tr>\n",
              "    <tr>\n",
              "      <th>5</th>\n",
              "      <td>Oct</td>\n",
              "      <td>60.000000</td>\n",
              "    </tr>\n",
              "  </tbody>\n",
              "</table>\n",
              "</div>"
            ],
            "text/plain": [
              "  month  performance\n",
              "0   Jan    80.000000\n",
              "1   Feb    50.000000\n",
              "2   Mar    66.666667\n",
              "3   Jun    83.333333\n",
              "4   Jul    66.666667\n",
              "5   Oct    60.000000"
            ]
          },
          "metadata": {
            "tags": []
          },
          "execution_count": 142
        }
      ]
    },
    {
      "cell_type": "code",
      "metadata": {
        "id": "GRq430aaKqHm",
        "colab_type": "code",
        "colab": {
          "base_uri": "https://localhost:8080/",
          "height": 684
        },
        "outputId": "1336fae2-59eb-4443-9de2-76cdf8dc7e64"
      },
      "source": [
        "plt.figure(figsize=(15,10))\n",
        "fig, (ax1, ax2) = plt.subplots(1, 2,figsize=(15,10))\n",
        "ax1.plot(b.index,b.values);\n",
        "ax1.scatter(b.index,b.values);\n",
        "ax1.plot(bb1.index,bb1.values);\n",
        "ax1.scatter(bb1.index,bb1.values);\n",
        "fig.suptitle('Total match played and win  v/s performance of ENGLAND')\n",
        "ax1.legend([\"win\", \"played\"], loc =\"lower right\")\n",
        "ax2.plot(perf['month'],perf['performance']);\n",
        "ax2.scatter(perf['month'],perf['performance']);"
      ],
      "execution_count": 150,
      "outputs": [
        {
          "output_type": "display_data",
          "data": {
            "text/plain": [
              "<Figure size 1080x720 with 0 Axes>"
            ]
          },
          "metadata": {
            "tags": []
          }
        },
        {
          "output_type": "display_data",
          "data": {
            "image/png": "[encoded data removed]",
            "text/plain": [
              "<Figure size 1080x720 with 2 Axes>"
            ]
          },
          "metadata": {
            "tags": []
          }
        }
      ]
    },
    {
      "cell_type": "code",
      "metadata": {
        "id": "mbDINbOtazKf",
        "colab_type": "code",
        "colab": {}
      },
      "source": [
        ""
      ],
      "execution_count": null,
      "outputs": []
    }
  ]
}